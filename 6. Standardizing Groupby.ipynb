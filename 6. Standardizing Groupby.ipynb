{
  "nbformat": 4,
  "nbformat_minor": 0,
  "metadata": {
    "kernelspec": {
      "display_name": "Python 3",
      "language": "python",
      "name": "python3"
    },
    "language_info": {
      "codemirror_mode": {
        "name": "ipython",
        "version": 3
      },
      "file_extension": ".py",
      "mimetype": "text/x-python",
      "name": "python",
      "nbconvert_exporter": "python",
      "pygments_lexer": "ipython3",
      "version": "3.6.7"
    },
    "colab": {
      "name": "6. Standardizing Groupby.ipynb",
      "version": "0.3.2",
      "provenance": []
    }
  },
  "cells": [
    {
      "cell_type": "markdown",
      "metadata": {
        "id": "LoSKUSdXgHNf",
        "colab_type": "text"
      },
      "source": [
        "# 6. Standardizing `groupby`\n",
        "\n",
        "There are a number of syntaxes that get used for the groupby method. I suggest choosing a single syntax so that all of your code looks the same.\n"
      ]
    },
    {
      "cell_type": "code",
      "metadata": {
        "id": "kdEXNaCKgHNh",
        "colab_type": "code",
        "colab": {
          "base_uri": "https://localhost:8080/",
          "height": 202
        },
        "outputId": "f64360ab-ad63-4e6e-d365-40db6e613aa2"
      },
      "source": [
        "import pandas as pd\n",
        "pd.set_option('display.max_columns', 100)\n",
        "college = pd.read_csv('https://raw.githubusercontent.com/MathMachado/Minimally-Sufficient-Pandas/master/data/college.csv')\n",
        "college= college[['stabbr', 'satmtmid', 'satvrmid', 'ugds']]\n",
        "college.head(5)"
      ],
      "execution_count": 9,
      "outputs": [
        {
          "output_type": "execute_result",
          "data": {
            "text/html": [
              "<div>\n",
              "<style scoped>\n",
              "    .dataframe tbody tr th:only-of-type {\n",
              "        vertical-align: middle;\n",
              "    }\n",
              "\n",
              "    .dataframe tbody tr th {\n",
              "        vertical-align: top;\n",
              "    }\n",
              "\n",
              "    .dataframe thead th {\n",
              "        text-align: right;\n",
              "    }\n",
              "</style>\n",
              "<table border=\"1\" class=\"dataframe\">\n",
              "  <thead>\n",
              "    <tr style=\"text-align: right;\">\n",
              "      <th></th>\n",
              "      <th>stabbr</th>\n",
              "      <th>satmtmid</th>\n",
              "      <th>satvrmid</th>\n",
              "      <th>ugds</th>\n",
              "    </tr>\n",
              "  </thead>\n",
              "  <tbody>\n",
              "    <tr>\n",
              "      <th>0</th>\n",
              "      <td>AL</td>\n",
              "      <td>420.0</td>\n",
              "      <td>424.0</td>\n",
              "      <td>4206.0</td>\n",
              "    </tr>\n",
              "    <tr>\n",
              "      <th>1</th>\n",
              "      <td>AL</td>\n",
              "      <td>565.0</td>\n",
              "      <td>570.0</td>\n",
              "      <td>11383.0</td>\n",
              "    </tr>\n",
              "    <tr>\n",
              "      <th>2</th>\n",
              "      <td>AL</td>\n",
              "      <td>NaN</td>\n",
              "      <td>NaN</td>\n",
              "      <td>291.0</td>\n",
              "    </tr>\n",
              "    <tr>\n",
              "      <th>3</th>\n",
              "      <td>AL</td>\n",
              "      <td>590.0</td>\n",
              "      <td>595.0</td>\n",
              "      <td>5451.0</td>\n",
              "    </tr>\n",
              "    <tr>\n",
              "      <th>4</th>\n",
              "      <td>AL</td>\n",
              "      <td>430.0</td>\n",
              "      <td>425.0</td>\n",
              "      <td>4811.0</td>\n",
              "    </tr>\n",
              "  </tbody>\n",
              "</table>\n",
              "</div>"
            ],
            "text/plain": [
              "  stabbr  satmtmid  satvrmid     ugds\n",
              "0     AL     420.0     424.0   4206.0\n",
              "1     AL     565.0     570.0  11383.0\n",
              "2     AL       NaN       NaN    291.0\n",
              "3     AL     590.0     595.0   5451.0\n",
              "4     AL     430.0     425.0   4811.0"
            ]
          },
          "metadata": {
            "tags": []
          },
          "execution_count": 9
        }
      ]
    },
    {
      "cell_type": "code",
      "metadata": {
        "id": "ngPvryL4htWO",
        "colab_type": "code",
        "colab": {
          "base_uri": "https://localhost:8080/",
          "height": 35
        },
        "outputId": "3b2e1e54-5e36-4ad9-f27e-1983fcb48644"
      },
      "source": [
        "college.shape"
      ],
      "execution_count": 10,
      "outputs": [
        {
          "output_type": "execute_result",
          "data": {
            "text/plain": [
              "(7535, 4)"
            ]
          },
          "metadata": {
            "tags": []
          },
          "execution_count": 10
        }
      ]
    },
    {
      "cell_type": "markdown",
      "metadata": {
        "id": "jQjTudyQgHNk",
        "colab_type": "text"
      },
      "source": [
        "## The three components of `groupby`\n",
        "\n",
        "Typically, when calling the `groupby` method, you will be performing an aggregation. This is the by far the most common scenario. When you are performing an aggregation during a `groupby`, there will always be three components.\n",
        "\n",
        "* **Grouping column** - Unique values form independent groups\n",
        "* **Aggregating column** - Column whose values will get aggregated. Usually numeric\n",
        "* **Aggregating function** - How the values will get aggregated (sum, min, max, mean, median, etc...)\n",
        "\n",
        "![][1]\n",
        "\n",
        "### Identify each component from image above\n",
        "* Grouping column - Dept\n",
        "* Aggregating columns - salary, experience\n",
        "* Aggregating functions - sum, average\n",
        "\n",
        "All groupby aggregations will have these three components.\n",
        "\n",
        "### My syntax of choice for `groupby`\n",
        "There are a few different syntaxes that Pandas allows to perform a groupby aggregation. The following is the one I use.\n",
        "\n",
        "```df.groupby('grouping column').agg({'aggregating column': 'aggregating function'})```\n",
        "\n",
        "[1]: images/sac.png"
      ]
    },
    {
      "cell_type": "markdown",
      "metadata": {
        "id": "czvLSKUwgHNl",
        "colab_type": "text"
      },
      "source": [
        "### A buffet of `groupby` for finding the maximum math SAT score per state\n",
        "Below, we will go through several different syntaxes that return the same result for finding the maximum SAT score per state."
      ]
    },
    {
      "cell_type": "markdown",
      "metadata": {
        "id": "iD4mnTqIgHNm",
        "colab_type": "text"
      },
      "source": [
        "My preferred way. It handles more complex cases."
      ]
    },
    {
      "cell_type": "code",
      "metadata": {
        "id": "7GRdoYnig9Wm",
        "colab_type": "code",
        "colab": {
          "base_uri": "https://localhost:8080/",
          "height": 202
        },
        "outputId": "62ddf090-ed18-4df6-d617-246360d00d76"
      },
      "source": [
        "college.head()"
      ],
      "execution_count": 11,
      "outputs": [
        {
          "output_type": "execute_result",
          "data": {
            "text/html": [
              "<div>\n",
              "<style scoped>\n",
              "    .dataframe tbody tr th:only-of-type {\n",
              "        vertical-align: middle;\n",
              "    }\n",
              "\n",
              "    .dataframe tbody tr th {\n",
              "        vertical-align: top;\n",
              "    }\n",
              "\n",
              "    .dataframe thead th {\n",
              "        text-align: right;\n",
              "    }\n",
              "</style>\n",
              "<table border=\"1\" class=\"dataframe\">\n",
              "  <thead>\n",
              "    <tr style=\"text-align: right;\">\n",
              "      <th></th>\n",
              "      <th>stabbr</th>\n",
              "      <th>satmtmid</th>\n",
              "      <th>satvrmid</th>\n",
              "      <th>ugds</th>\n",
              "    </tr>\n",
              "  </thead>\n",
              "  <tbody>\n",
              "    <tr>\n",
              "      <th>0</th>\n",
              "      <td>AL</td>\n",
              "      <td>420.0</td>\n",
              "      <td>424.0</td>\n",
              "      <td>4206.0</td>\n",
              "    </tr>\n",
              "    <tr>\n",
              "      <th>1</th>\n",
              "      <td>AL</td>\n",
              "      <td>565.0</td>\n",
              "      <td>570.0</td>\n",
              "      <td>11383.0</td>\n",
              "    </tr>\n",
              "    <tr>\n",
              "      <th>2</th>\n",
              "      <td>AL</td>\n",
              "      <td>NaN</td>\n",
              "      <td>NaN</td>\n",
              "      <td>291.0</td>\n",
              "    </tr>\n",
              "    <tr>\n",
              "      <th>3</th>\n",
              "      <td>AL</td>\n",
              "      <td>590.0</td>\n",
              "      <td>595.0</td>\n",
              "      <td>5451.0</td>\n",
              "    </tr>\n",
              "    <tr>\n",
              "      <th>4</th>\n",
              "      <td>AL</td>\n",
              "      <td>430.0</td>\n",
              "      <td>425.0</td>\n",
              "      <td>4811.0</td>\n",
              "    </tr>\n",
              "  </tbody>\n",
              "</table>\n",
              "</div>"
            ],
            "text/plain": [
              "  stabbr  satmtmid  satvrmid     ugds\n",
              "0     AL     420.0     424.0   4206.0\n",
              "1     AL     565.0     570.0  11383.0\n",
              "2     AL       NaN       NaN    291.0\n",
              "3     AL     590.0     595.0   5451.0\n",
              "4     AL     430.0     425.0   4811.0"
            ]
          },
          "metadata": {
            "tags": []
          },
          "execution_count": 11
        }
      ]
    },
    {
      "cell_type": "code",
      "metadata": {
        "id": "m1clhJn6gHNm",
        "colab_type": "code",
        "colab": {
          "base_uri": "https://localhost:8080/",
          "height": 233
        },
        "outputId": "023fb187-193b-4c09-8ec1-c50f6add3b0c"
      },
      "source": [
        "df = college.groupby('stabbr').agg({'satmtmid': 'max'})\n",
        "df.head()"
      ],
      "execution_count": 14,
      "outputs": [
        {
          "output_type": "execute_result",
          "data": {
            "text/html": [
              "<div>\n",
              "<style scoped>\n",
              "    .dataframe tbody tr th:only-of-type {\n",
              "        vertical-align: middle;\n",
              "    }\n",
              "\n",
              "    .dataframe tbody tr th {\n",
              "        vertical-align: top;\n",
              "    }\n",
              "\n",
              "    .dataframe thead th {\n",
              "        text-align: right;\n",
              "    }\n",
              "</style>\n",
              "<table border=\"1\" class=\"dataframe\">\n",
              "  <thead>\n",
              "    <tr style=\"text-align: right;\">\n",
              "      <th></th>\n",
              "      <th>satmtmid</th>\n",
              "    </tr>\n",
              "    <tr>\n",
              "      <th>stabbr</th>\n",
              "      <th></th>\n",
              "    </tr>\n",
              "  </thead>\n",
              "  <tbody>\n",
              "    <tr>\n",
              "      <th>AK</th>\n",
              "      <td>503.0</td>\n",
              "    </tr>\n",
              "    <tr>\n",
              "      <th>AL</th>\n",
              "      <td>590.0</td>\n",
              "    </tr>\n",
              "    <tr>\n",
              "      <th>AR</th>\n",
              "      <td>600.0</td>\n",
              "    </tr>\n",
              "    <tr>\n",
              "      <th>AS</th>\n",
              "      <td>NaN</td>\n",
              "    </tr>\n",
              "    <tr>\n",
              "      <th>AZ</th>\n",
              "      <td>580.0</td>\n",
              "    </tr>\n",
              "  </tbody>\n",
              "</table>\n",
              "</div>"
            ],
            "text/plain": [
              "        satmtmid\n",
              "stabbr          \n",
              "AK         503.0\n",
              "AL         590.0\n",
              "AR         600.0\n",
              "AS           NaN\n",
              "AZ         580.0"
            ]
          },
          "metadata": {
            "tags": []
          },
          "execution_count": 14
        }
      ]
    },
    {
      "cell_type": "markdown",
      "metadata": {
        "id": "zZ6DNHKSgHNo",
        "colab_type": "text"
      },
      "source": [
        "The aggregating column can be selected within brackets following the call to `groupby`."
      ]
    },
    {
      "cell_type": "code",
      "metadata": {
        "id": "BSQxlVNYgHNp",
        "colab_type": "code",
        "colab": {
          "base_uri": "https://localhost:8080/",
          "height": 233
        },
        "outputId": "db0215bf-4f1a-42aa-a174-faa1137e3963"
      },
      "source": [
        "college.groupby('stabbr')['satmtmid'].agg(['max', 'min']).head()"
      ],
      "execution_count": 16,
      "outputs": [
        {
          "output_type": "execute_result",
          "data": {
            "text/html": [
              "<div>\n",
              "<style scoped>\n",
              "    .dataframe tbody tr th:only-of-type {\n",
              "        vertical-align: middle;\n",
              "    }\n",
              "\n",
              "    .dataframe tbody tr th {\n",
              "        vertical-align: top;\n",
              "    }\n",
              "\n",
              "    .dataframe thead th {\n",
              "        text-align: right;\n",
              "    }\n",
              "</style>\n",
              "<table border=\"1\" class=\"dataframe\">\n",
              "  <thead>\n",
              "    <tr style=\"text-align: right;\">\n",
              "      <th></th>\n",
              "      <th>max</th>\n",
              "      <th>min</th>\n",
              "    </tr>\n",
              "    <tr>\n",
              "      <th>stabbr</th>\n",
              "      <th></th>\n",
              "      <th></th>\n",
              "    </tr>\n",
              "  </thead>\n",
              "  <tbody>\n",
              "    <tr>\n",
              "      <th>AK</th>\n",
              "      <td>503.0</td>\n",
              "      <td>503.0</td>\n",
              "    </tr>\n",
              "    <tr>\n",
              "      <th>AL</th>\n",
              "      <td>590.0</td>\n",
              "      <td>400.0</td>\n",
              "    </tr>\n",
              "    <tr>\n",
              "      <th>AR</th>\n",
              "      <td>600.0</td>\n",
              "      <td>427.0</td>\n",
              "    </tr>\n",
              "    <tr>\n",
              "      <th>AS</th>\n",
              "      <td>NaN</td>\n",
              "      <td>NaN</td>\n",
              "    </tr>\n",
              "    <tr>\n",
              "      <th>AZ</th>\n",
              "      <td>580.0</td>\n",
              "      <td>480.0</td>\n",
              "    </tr>\n",
              "  </tbody>\n",
              "</table>\n",
              "</div>"
            ],
            "text/plain": [
              "          max    min\n",
              "stabbr              \n",
              "AK      503.0  503.0\n",
              "AL      590.0  400.0\n",
              "AR      600.0  427.0\n",
              "AS        NaN    NaN\n",
              "AZ      580.0  480.0"
            ]
          },
          "metadata": {
            "tags": []
          },
          "execution_count": 16
        }
      ]
    },
    {
      "cell_type": "markdown",
      "metadata": {
        "id": "9J13_VC-gHNr",
        "colab_type": "text"
      },
      "source": [
        "`aggregate` is an alias for `agg`. Always use `agg`."
      ]
    },
    {
      "cell_type": "code",
      "metadata": {
        "id": "iMbu3vTMgHNs",
        "colab_type": "code",
        "colab": {}
      },
      "source": [
        "college.groupby('stabbr')['satmtmid'].aggregate('max').head()"
      ],
      "execution_count": 0,
      "outputs": []
    },
    {
      "cell_type": "markdown",
      "metadata": {
        "id": "LyVFVTkegHNu",
        "colab_type": "text"
      },
      "source": [
        "You can call the aggregating method directly without calling `agg`."
      ]
    },
    {
      "cell_type": "code",
      "metadata": {
        "id": "AeDfpXJIgHNv",
        "colab_type": "code",
        "colab": {}
      },
      "source": [
        "college.groupby('stabbr')['satmtmid'].max().head()"
      ],
      "execution_count": 0,
      "outputs": []
    },
    {
      "cell_type": "markdown",
      "metadata": {
        "id": "EdOdgNkcgHNx",
        "colab_type": "text"
      },
      "source": [
        "### Major benefits of preferred syntax\n",
        "The reason I choose this syntax, is that it can handle more complex grouping problems. For instance, if we wanted to find the max and min math and verbal sat score along with the average undergrad population per state we would do the following."
      ]
    },
    {
      "cell_type": "code",
      "metadata": {
        "id": "P_-Z0tMwgHNx",
        "colab_type": "code",
        "colab": {
          "base_uri": "https://localhost:8080/",
          "height": 417
        },
        "outputId": "2d8b8081-8e63-459e-e785-8390b273ef9a"
      },
      "source": [
        "df = college.groupby('stabbr').agg({'satmtmid': ['min', 'max'],\n",
        "                                    'satvrmid': ['min', 'max'],\n",
        "                                    'ugds': 'mean'}).round(0)\n",
        "df.head(10)"
      ],
      "execution_count": 17,
      "outputs": [
        {
          "output_type": "execute_result",
          "data": {
            "text/html": [
              "<div>\n",
              "<style scoped>\n",
              "    .dataframe tbody tr th:only-of-type {\n",
              "        vertical-align: middle;\n",
              "    }\n",
              "\n",
              "    .dataframe tbody tr th {\n",
              "        vertical-align: top;\n",
              "    }\n",
              "\n",
              "    .dataframe thead tr th {\n",
              "        text-align: left;\n",
              "    }\n",
              "\n",
              "    .dataframe thead tr:last-of-type th {\n",
              "        text-align: right;\n",
              "    }\n",
              "</style>\n",
              "<table border=\"1\" class=\"dataframe\">\n",
              "  <thead>\n",
              "    <tr>\n",
              "      <th></th>\n",
              "      <th colspan=\"2\" halign=\"left\">satmtmid</th>\n",
              "      <th colspan=\"2\" halign=\"left\">satvrmid</th>\n",
              "      <th>ugds</th>\n",
              "    </tr>\n",
              "    <tr>\n",
              "      <th></th>\n",
              "      <th>min</th>\n",
              "      <th>max</th>\n",
              "      <th>min</th>\n",
              "      <th>max</th>\n",
              "      <th>mean</th>\n",
              "    </tr>\n",
              "    <tr>\n",
              "      <th>stabbr</th>\n",
              "      <th></th>\n",
              "      <th></th>\n",
              "      <th></th>\n",
              "      <th></th>\n",
              "      <th></th>\n",
              "    </tr>\n",
              "  </thead>\n",
              "  <tbody>\n",
              "    <tr>\n",
              "      <th>AK</th>\n",
              "      <td>503.0</td>\n",
              "      <td>503.0</td>\n",
              "      <td>555.0</td>\n",
              "      <td>555.0</td>\n",
              "      <td>2493.0</td>\n",
              "    </tr>\n",
              "    <tr>\n",
              "      <th>AL</th>\n",
              "      <td>400.0</td>\n",
              "      <td>590.0</td>\n",
              "      <td>420.0</td>\n",
              "      <td>595.0</td>\n",
              "      <td>2790.0</td>\n",
              "    </tr>\n",
              "    <tr>\n",
              "      <th>AR</th>\n",
              "      <td>427.0</td>\n",
              "      <td>600.0</td>\n",
              "      <td>410.0</td>\n",
              "      <td>600.0</td>\n",
              "      <td>1644.0</td>\n",
              "    </tr>\n",
              "    <tr>\n",
              "      <th>AS</th>\n",
              "      <td>NaN</td>\n",
              "      <td>NaN</td>\n",
              "      <td>NaN</td>\n",
              "      <td>NaN</td>\n",
              "      <td>1276.0</td>\n",
              "    </tr>\n",
              "    <tr>\n",
              "      <th>AZ</th>\n",
              "      <td>480.0</td>\n",
              "      <td>580.0</td>\n",
              "      <td>485.0</td>\n",
              "      <td>565.0</td>\n",
              "      <td>4130.0</td>\n",
              "    </tr>\n",
              "    <tr>\n",
              "      <th>CA</th>\n",
              "      <td>441.0</td>\n",
              "      <td>785.0</td>\n",
              "      <td>435.0</td>\n",
              "      <td>765.0</td>\n",
              "      <td>3518.0</td>\n",
              "    </tr>\n",
              "    <tr>\n",
              "      <th>CO</th>\n",
              "      <td>424.0</td>\n",
              "      <td>680.0</td>\n",
              "      <td>475.0</td>\n",
              "      <td>635.0</td>\n",
              "      <td>2325.0</td>\n",
              "    </tr>\n",
              "    <tr>\n",
              "      <th>CT</th>\n",
              "      <td>430.0</td>\n",
              "      <td>750.0</td>\n",
              "      <td>425.0</td>\n",
              "      <td>755.0</td>\n",
              "      <td>1874.0</td>\n",
              "    </tr>\n",
              "    <tr>\n",
              "      <th>DC</th>\n",
              "      <td>445.0</td>\n",
              "      <td>710.0</td>\n",
              "      <td>430.0</td>\n",
              "      <td>710.0</td>\n",
              "      <td>2645.0</td>\n",
              "    </tr>\n",
              "    <tr>\n",
              "      <th>DE</th>\n",
              "      <td>430.0</td>\n",
              "      <td>605.0</td>\n",
              "      <td>430.0</td>\n",
              "      <td>585.0</td>\n",
              "      <td>2491.0</td>\n",
              "    </tr>\n",
              "  </tbody>\n",
              "</table>\n",
              "</div>"
            ],
            "text/plain": [
              "       satmtmid        satvrmid           ugds\n",
              "            min    max      min    max    mean\n",
              "stabbr                                        \n",
              "AK        503.0  503.0    555.0  555.0  2493.0\n",
              "AL        400.0  590.0    420.0  595.0  2790.0\n",
              "AR        427.0  600.0    410.0  600.0  1644.0\n",
              "AS          NaN    NaN      NaN    NaN  1276.0\n",
              "AZ        480.0  580.0    485.0  565.0  4130.0\n",
              "CA        441.0  785.0    435.0  765.0  3518.0\n",
              "CO        424.0  680.0    475.0  635.0  2325.0\n",
              "CT        430.0  750.0    425.0  755.0  1874.0\n",
              "DC        445.0  710.0    430.0  710.0  2645.0\n",
              "DE        430.0  605.0    430.0  585.0  2491.0"
            ]
          },
          "metadata": {
            "tags": []
          },
          "execution_count": 17
        }
      ]
    },
    {
      "cell_type": "markdown",
      "metadata": {
        "id": "JuAfyGg7gHN2",
        "colab_type": "text"
      },
      "source": [
        "This problem isn't solvable using the other syntaxes. If everyone on your team is using the same syntax, code becomes easier to read."
      ]
    }
  ]
}